{
  "nbformat": 4,
  "nbformat_minor": 0,
  "metadata": {
    "colab": {
      "provenance": [],
      "include_colab_link": true
    },
    "kernelspec": {
      "name": "python3",
      "display_name": "Python 3"
    },
    "language_info": {
      "name": "python"
    }
  },
  "cells": [
    {
      "cell_type": "markdown",
      "metadata": {
        "id": "view-in-github",
        "colab_type": "text"
      },
      "source": [
        "<a href=\"https://colab.research.google.com/github/Akansha2201/jubilant-octo-engine/blob/main/Chipotle__Sales_Analysis.ipynb\" target=\"_parent\"><img src=\"https://colab.research.google.com/assets/colab-badge.svg\" alt=\"Open In Colab\"/></a>"
      ]
    },
    {
      "cell_type": "markdown",
      "source": [
        "Objective: Use the pandas library to perform basic data analysis over Chipotle sales data. This workout will provide you practice in introductory exploratory data analysis to understand your data.\n",
        "\n",
        "Link to dataset: https://raw.githubusercontent.com/justmarkham/DAT8/master/data/chipotle.tsv"
      ],
      "metadata": {
        "id": "QuL55E-BT0Yo"
      }
    },
    {
      "cell_type": "markdown",
      "source": [
        "\n",
        "\n",
        "1. Which was the most-ordered item?\n",
        "2. For the most-ordered item, how many items were ordered?\n",
        "3. What was the most ordered item in the choice_description column?\n",
        "4. How many items were ordered in total?\n",
        "5. Convert the item price into a float.\n",
        "6. How much was the revenue for the period in the dataset?\n",
        "7. How many orders were made in the period?\n",
        "8. What is the average revenue amount per order?\n",
        "9. How many different items are sold?\n",
        "\n",
        "\n"
      ],
      "metadata": {
        "id": "bzpXafkuUe3y"
      }
    },
    {
      "cell_type": "markdown",
      "source": [
        "# Importing Packages"
      ],
      "metadata": {
        "id": "0LrVkIzTU_1r"
      }
    },
    {
      "cell_type": "code",
      "execution_count": null,
      "metadata": {
        "id": "Y5vAtn09RT0d"
      },
      "outputs": [],
      "source": [
        "import pandas as pd"
      ]
    },
    {
      "cell_type": "markdown",
      "source": [
        "# Read tsv file as csv"
      ],
      "metadata": {
        "id": "1mBKWI4HR-bS"
      }
    },
    {
      "cell_type": "code",
      "source": [
        "url = 'https://raw.githubusercontent.com/justmarkham/DAT8/master/data/chipotle.tsv'\n",
        "chipotle_data = pd.read_csv(url, sep = '\\t')\n",
        "\n",
        "chipotle_data.head"
      ],
      "metadata": {
        "id": "ik-9dg9DRlwl"
      },
      "execution_count": null,
      "outputs": []
    },
    {
      "cell_type": "markdown",
      "source": [
        "# Which was the most ordered item?"
      ],
      "metadata": {
        "id": "7VdOhnIRSDGV"
      }
    },
    {
      "cell_type": "code",
      "source": [
        "chipotle_most_ordered = chipotle_data.groupby('item_name') ['quantity'].sum().idxmax()\n",
        "print (\"Most ordered item:\", chipotle_most_ordered)"
      ],
      "metadata": {
        "colab": {
          "base_uri": "https://localhost:8080/"
        },
        "id": "N4qR9vtHSHY5",
        "outputId": "af92ee80-9768-435e-ad75-49574da04778"
      },
      "execution_count": null,
      "outputs": [
        {
          "output_type": "stream",
          "name": "stdout",
          "text": [
            "Most ordered item: Chicken Bowl\n"
          ]
        }
      ]
    },
    {
      "cell_type": "markdown",
      "source": [
        "# For the most-ordered item, how many items were ordered?"
      ],
      "metadata": {
        "id": "zUjyXcY9V29a"
      }
    },
    {
      "cell_type": "code",
      "source": [
        "num_chipotle_most_ordered = chipotle_data.groupby('item_name') ['quantity'].sum().max()\n",
        "print (\"Number of items ordered:\", num_chipotle_most_ordered)"
      ],
      "metadata": {
        "colab": {
          "base_uri": "https://localhost:8080/"
        },
        "id": "f1VcPfLvV3Oi",
        "outputId": "3e1b6e17-39b6-4dbe-eece-adf63b44d7b7"
      },
      "execution_count": null,
      "outputs": [
        {
          "output_type": "stream",
          "name": "stdout",
          "text": [
            "Number of items ordered: 761\n"
          ]
        }
      ]
    },
    {
      "cell_type": "markdown",
      "source": [
        "# What was the most ordered item in the choice_description column?"
      ],
      "metadata": {
        "id": "DYmDEA-uVQI-"
      }
    },
    {
      "cell_type": "code",
      "source": [
        "chipotle_most_ordered_choice = chipotle_data.groupby('choice_description') ['quantity'].sum().idxmax()\n",
        "print (\"Most ordered choice:\", chipotle_most_ordered_choice)"
      ],
      "metadata": {
        "colab": {
          "base_uri": "https://localhost:8080/"
        },
        "id": "q8b84l3AVV93",
        "outputId": "21cf38aa-27de-444a-ca90-b1225ec84da1"
      },
      "execution_count": null,
      "outputs": [
        {
          "output_type": "stream",
          "name": "stdout",
          "text": [
            "Most ordered choice: [Diet Coke]\n"
          ]
        }
      ]
    },
    {
      "cell_type": "markdown",
      "source": [
        "# How many items were ordered in total?"
      ],
      "metadata": {
        "id": "vAB7mDnPXP7K"
      }
    },
    {
      "cell_type": "code",
      "source": [
        "chipotle_total_orders = chipotle_data['quantity'].sum()\n",
        "print (\"Total items ordered:\",  chipotle_total_orders)"
      ],
      "metadata": {
        "colab": {
          "base_uri": "https://localhost:8080/"
        },
        "id": "7mIZ5Ut2XQDM",
        "outputId": "9f1223e8-011e-4b57-c2f2-8d297c458f4d"
      },
      "execution_count": null,
      "outputs": [
        {
          "output_type": "stream",
          "name": "stdout",
          "text": [
            "Total items ordered: 4972\n"
          ]
        }
      ]
    },
    {
      "cell_type": "markdown",
      "source": [
        "# Convert the item price into a float."
      ],
      "metadata": {
        "id": "3uglKu0HYUat"
      }
    },
    {
      "cell_type": "code",
      "source": [
        "chipotle_data['item_price'].dtype\n",
        "chipotle_data['item_price'] = chipotle_data['item_price'].astype(str)\n",
        "chipotle_data['item_price'] = chipotle_data['item_price'].apply (lambda x: float ( x[1:]))\n",
        "print(\"the item price column is of data type:\", chipotle_data['item_price'].dtype)"
      ],
      "metadata": {
        "colab": {
          "base_uri": "https://localhost:8080/"
        },
        "id": "FRHMqcNmYVnf",
        "outputId": "18f0335e-6cd3-4ed1-e949-d202a2e95cfe"
      },
      "execution_count": null,
      "outputs": [
        {
          "output_type": "stream",
          "name": "stdout",
          "text": [
            "the item price column is of data type: float64\n"
          ]
        }
      ]
    },
    {
      "cell_type": "markdown",
      "source": [
        "# How much was the revenue for the period in the dataset?"
      ],
      "metadata": {
        "id": "MnA5nWElbT18"
      }
    },
    {
      "cell_type": "code",
      "source": [
        "revenue = (chipotle_data['quantity'] * chipotle_data['item_price']).sum()\n",
        "print(\"Revenue for the period: $\" , round(revenue,2))"
      ],
      "metadata": {
        "colab": {
          "base_uri": "https://localhost:8080/"
        },
        "id": "YcIW_0_qbY2R",
        "outputId": "155acfab-423b-42d1-abc4-cf910c8acd25"
      },
      "execution_count": null,
      "outputs": [
        {
          "output_type": "stream",
          "name": "stdout",
          "text": [
            "Revenue for the period: $ 39237.02\n"
          ]
        }
      ]
    },
    {
      "cell_type": "markdown",
      "source": [
        "# How many orders were made in the period?"
      ],
      "metadata": {
        "id": "evvVqx6BdKVR"
      }
    },
    {
      "cell_type": "code",
      "source": [
        "total_orders = chipotle_data['order_id'].nunique()\n",
        "print(\"total no. of orders:\", total_orders)"
      ],
      "metadata": {
        "colab": {
          "base_uri": "https://localhost:8080/"
        },
        "id": "bd5CvANgdKdC",
        "outputId": "38aece39-2ba4-47ca-df64-54e358eeb89d"
      },
      "execution_count": null,
      "outputs": [
        {
          "output_type": "stream",
          "name": "stdout",
          "text": [
            "total no. of orders: 1834\n"
          ]
        }
      ]
    },
    {
      "cell_type": "markdown",
      "source": [
        "# What is the average revenue amount per order?"
      ],
      "metadata": {
        "id": "-Tt_UnrEdKmE"
      }
    },
    {
      "cell_type": "code",
      "source": [
        "average_revenue_per_order = revenue / total_orders\n",
        "print(\"average revenue amount per order: $\", round(average_revenue_per_order,2))"
      ],
      "metadata": {
        "colab": {
          "base_uri": "https://localhost:8080/"
        },
        "id": "O6pfIsFjdKw8",
        "outputId": "049d6607-3215-47df-ccd7-249d6a8645ef"
      },
      "execution_count": null,
      "outputs": [
        {
          "output_type": "stream",
          "name": "stdout",
          "text": [
            "average revenue amount per order: $ 21.39\n"
          ]
        }
      ]
    },
    {
      "cell_type": "markdown",
      "source": [
        "# How many different items are sold?"
      ],
      "metadata": {
        "id": "XfBLD9rGdK5Q"
      }
    },
    {
      "cell_type": "code",
      "source": [
        "total_items_sold = chipotle_data['item_name'].nunique(0)\n",
        "print(\"Total items sold: \", total_items_sold)"
      ],
      "metadata": {
        "colab": {
          "base_uri": "https://localhost:8080/"
        },
        "id": "ACwzVQGUdLEr",
        "outputId": "0a05a903-2361-4dfb-dffd-04eda2959403"
      },
      "execution_count": null,
      "outputs": [
        {
          "output_type": "stream",
          "name": "stdout",
          "text": [
            "Total items sold:  50\n"
          ]
        }
      ]
    }
  ]
}